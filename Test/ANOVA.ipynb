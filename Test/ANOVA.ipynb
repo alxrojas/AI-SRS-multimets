{
 "cells": [
  {
   "cell_type": "markdown",
   "metadata": {},
   "source": [
    "# ANOVA analysis\n",
    "### for multilayer perceptron used in radiosurgery\n",
    "\n",
    "By the qqplot, or quantile-quantile plot, in this notebook it is checked if the samples (considering the learning rate, the number of neurons in the inner layers, the number of layers, the transfer function, the the activation function and the dropout) come from the same distribution.\n",
    "\n",
    "After that, the ANOVA and Shapiro tests were performed to consider if the dataset are the same or not."
   ]
  },
  {
   "cell_type": "code",
   "execution_count": null,
   "metadata": {},
   "outputs": [],
   "source": [
    "from platform import python_version\n",
    "\n",
    "# Part of the PhD project based on artificial intelligence on radiosurgery for multiple mets\n",
    "# The information extracted from this notebook has to be notified to authors. \n",
    "\n",
    "__author__ = \"José Alejandro Rojas López\"\n",
    "__institution__ = \"Universidad Nacional de Córdoba\"\n",
    "__copyright__ = \"Copyright (C) 2022 Alejandro Rojas\"\n",
    "__license__ = \"Public Domain\"\n",
    "__version__ = \"1.0\"\n",
    "__email__ = \"alexrojas@ciencias.unam.mx\"\n",
    "\n",
    "print(python_version())"
   ]
  },
  {
   "cell_type": "code",
   "execution_count": null,
   "metadata": {},
   "outputs": [],
   "source": [
    "import pandas as pd\n",
    "import numpy as np\n",
    "import matplotlib.pyplot as plt\n",
    "import seaborn as sns\n",
    "import pingouin as pg\n",
    "from statsmodels.graphics.factorplots import interaction_plot"
   ]
  },
  {
   "cell_type": "markdown",
   "metadata": {},
   "source": [
    "### Learning rate"
   ]
  },
  {
   "cell_type": "code",
   "execution_count": null,
   "metadata": {},
   "outputs": [],
   "source": [
    "pos = [\"lr0001\", \"lr0001\", \"lr0001\", \"lr0001\", \"lr0001\", \"lr0001\", \"lr0001\", \"lr0001\", \"lr0001\", \"lr0001\", \"lr0001\", \"lr0001\", \"lr0001\", \"lr0001\", \"lr0001\", \"lr0001\", \"lr0001\", \"lr0001\", \"lr0001\", \"lr0001\", \n",
    "       \"lr001\", \"lr001\", \"lr001\", \"lr001\", \"lr001\", \"lr001\", \"lr001\", \"lr001\", \"lr001\", \"lr001\", \"lr001\", \"lr001\", \"lr001\", \"lr001\", \"lr001\", \"lr001\", \"lr001\", \"lr001\", \"lr001\", \"lr001\",\n",
    "       \"lr01\", \"lr01\", \"lr01\", \"lr01\", \"lr01\", \"lr01\", \"lr01\", \"lr01\", \"lr01\", \"lr01\", \"lr01\", \"lr01\", \"lr01\", \"lr01\", \"lr01\", \"lr01\", \"lr01\", \"lr01\", \"lr01\", \"lr01\", \n",
    "       \"lr1\", \"lr1\", \"lr1\", \"lr1\", \"lr1\", \"lr1\", \"lr1\", \"lr1\", \"lr1\", \"lr1\", \"lr1\", \"lr1\", \"lr1\", \"lr1\", \"lr1\", \"lr1\", \"lr1\", \"lr1\", \"lr1\", \"lr1\"]\n",
    "\n",
    "dato = [96.4,94.9,95.9,93.4,97,94.7,93.9,94.9,88.8,92.4,95.9,94.9,95.9,95.4,93.4,94.9,96.4,97,94.4,95.9, 95.9,95.4,95.4,96.4,97,95.9,95.4,97,96.4,96.4,95.4,96.4,94.4,94.9,95.9,96.4,97,94.4,95.4,95.4, 95.4,94.9,95.4,95.4,79.6,94.9,97,94.9,95.9,94.9,95.9,95.4,95.9,93.9,97.5,92.9,95.4,94.9,92.9,95.4, 95.9,95.9,94.9,95.6,94.9,94.4,94.9,94.9,95.9,95.9,94.9,97.5,95.4,96.4,97.5,94.4,94.4,94.9,95.4,95.4]"
   ]
  },
  {
   "cell_type": "code",
   "execution_count": null,
   "metadata": {},
   "outputs": [],
   "source": [
    "datos = pd.DataFrame({'pos': pos, 'dato': dato})\n",
    "datos.head(4)\n",
    "datos.groupby('pos').size()\n",
    "datos.groupby('pos').agg(['mean', 'std'])"
   ]
  },
  {
   "cell_type": "code",
   "execution_count": null,
   "metadata": {},
   "outputs": [],
   "source": [
    "fig, ax = plt.subplots(1, 1, figsize=(8, 4))\n",
    "sns.boxplot(x=\"pos\", y=\"dato\", data=datos, ax=ax)\n",
    "sns.swarmplot(x=\"pos\", y=\"dato\", data=datos, color='black', alpha = 0.5, ax=ax);"
   ]
  },
  {
   "cell_type": "code",
   "execution_count": null,
   "metadata": {},
   "outputs": [],
   "source": [
    "# qqplot\n",
    "# ==============================================================================\n",
    "fig, axs = plt.subplots(2, 2, figsize=(8, 7))\n",
    "pg.qqplot(datos.loc[datos.pos=='lr0001', 'dato'], dist='norm', ax=axs[0,0])\n",
    "axs[0,0].set_title('lr0001')\n",
    "pg.qqplot(datos.loc[datos.pos=='lr001', 'dato'], dist='norm', ax=axs[0,1])\n",
    "axs[0,1].set_title('lr001')\n",
    "pg.qqplot(datos.loc[datos.pos=='lr01', 'dato'], dist='norm', ax=axs[1,0])\n",
    "axs[1,0].set_title('lr01')\n",
    "pg.qqplot(datos.loc[datos.pos=='lr1', 'dato'], dist='norm', ax=axs[1,1])\n",
    "axs[1,1].set_title('lr1')\n",
    "plt.tight_layout()"
   ]
  },
  {
   "cell_type": "code",
   "execution_count": null,
   "metadata": {},
   "outputs": [],
   "source": [
    "# Normality test Shapiro-Wilk\n",
    "# ==============================================================================\n",
    "pg.normality(data=datos, dv='dato', group='pos')"
   ]
  },
  {
   "cell_type": "code",
   "execution_count": null,
   "metadata": {},
   "outputs": [],
   "source": [
    "# Homocedasticity test\n",
    "# ==============================================================================\n",
    "pg.homoscedasticity(data=datos, dv='dato', group='pos', method='levene')"
   ]
  },
  {
   "cell_type": "code",
   "execution_count": null,
   "metadata": {},
   "outputs": [],
   "source": [
    "# One-way ANOVA\n",
    "# ==============================================================================\n",
    "pg.anova(data=datos, dv='dato', between='pos', detailed=True)"
   ]
  },
  {
   "cell_type": "code",
   "execution_count": null,
   "metadata": {},
   "outputs": [],
   "source": [
    "# Post-hoc Tukey test\n",
    "# ==============================================================================\n",
    "pg.pairwise_tukey(data=datos, dv='dato', between='pos').round(3)"
   ]
  },
  {
   "cell_type": "code",
   "execution_count": null,
   "metadata": {},
   "outputs": [],
   "source": [
    "lr0001 = [96.4,94.9,95.9,93.4,97,94.7,93.9,94.9,88.8,92.4,95.9,94.9,95.9,95.4,93.4,94.9,96.4,97,94.4,95.9]\n",
    "lr001  = [95.9,95.4,95.4,96.4,97,95.9,95.4,97,96.4,96.4,95.4,96.4,94.4,94.9,95.9,96.4,97,94.4,95.4,95.4]\n",
    "lr01   = [95.4,94.9,95.4,95.4,79.6,94.9,97,94.9,95.9,94.9,95.9,95.4,95.9,93.9,97.5,92.9,95.4,94.9,92.9,95.4]\n",
    "lr1    = [95.9,95.9,94.9,95.6,94.9,94.4,94.9,94.9,95.9,95.9,94.9,97.5,95.4,96.4,97.5,94.4,94.4,94.9,95.4,95.4]"
   ]
  },
  {
   "cell_type": "code",
   "execution_count": null,
   "metadata": {},
   "outputs": [],
   "source": [
    "from scipy import stats\n",
    "\n",
    "#perform Kruskal-Wallis Test \n",
    "stats.kruskal(lr0001, lr001, lr01, lr1)"
   ]
  },
  {
   "cell_type": "code",
   "execution_count": null,
   "metadata": {},
   "outputs": [],
   "source": [
    "lr0001t = [81.6,77.6,77.6,79.6,75.5,77.6,77.6,81.6,73.5,77.6,75.5,81.6,79.6,83.7,77.6,81.6,81.6,77.6,79.6,73.5]\n",
    "lr001t  = [81.6,83.7,81.6,79.6,77.6,77.6,81.6,79.6,77.6,81.6,79.6,83.7,85.7,75.5,79.6,79.6,83.7,77.6,79.6,77.6]\n",
    "lr01t   = [77.6,83.7,75.5,81.6,92.3,73.5,79.6,77.6,75.5,81.6,77.6,81.6,85.7,83.7,79.6,77.6,77.6,81.6,79.8,81.6]\n",
    "lr1t    = [85.7,83.7,81.6,81.6,81.6,81.6,87.8,87.8,81.6,83.7,83.7,83.7,81.6,85.7,81.6,81.6,81.6,83.7,83.7,83.7]\n",
    "\n",
    "#perform Kruskal-Wallis Test \n",
    "stats.kruskal(lr0001t, lr001t, lr01t, lr1t)"
   ]
  },
  {
   "cell_type": "code",
   "execution_count": null,
   "metadata": {},
   "outputs": [],
   "source": [
    "x1 = []\n",
    "for i in range(len(lr1)):\n",
    "    x1.append(lr0001t[i])\n",
    "    i = i+1\n",
    "for i in range(len(lr1)):\n",
    "    x1.append(lr001t[i])\n",
    "    i = i+1\n",
    "for i in range(len(lr1)):\n",
    "    x1.append(lr01t[i])\n",
    "    i = i+1\n",
    "for i in range(len(lr1)):\n",
    "    x1.append(lr1t[i])\n",
    "    i = i+1\n",
    "    \n",
    "datos = pd.DataFrame({'pos': pos, 'x1': x1})\n",
    "datos.head(4)\n",
    "datos.groupby('pos').size()\n",
    "datos.groupby('pos').agg(['mean', 'std'])\n",
    "fig, ax = plt.subplots(1, 1, figsize=(8, 4))\n",
    "sns.boxplot(x=\"pos\", y=\"x1\", data=datos, ax=ax)\n",
    "sns.swarmplot(x=\"pos\", y=\"x1\", data=datos, color='black', alpha = 0.5, ax=ax);\n",
    "\n",
    "# Gráficos qqplot\n",
    "# ==============================================================================\n",
    "fig, axs = plt.subplots(2, 2, figsize=(8, 7))\n",
    "pg.qqplot(datos.loc[datos.pos=='lr0001', 'x1'], dist='norm', ax=axs[0,0])\n",
    "axs[0,0].set_title('lr0001')\n",
    "pg.qqplot(datos.loc[datos.pos=='lr001', 'x1'], dist='norm', ax=axs[0,1])\n",
    "axs[0,1].set_title('lr001')\n",
    "pg.qqplot(datos.loc[datos.pos=='lr01', 'x1'], dist='norm', ax=axs[1,0])\n",
    "axs[1,0].set_title('lr01')\n",
    "pg.qqplot(datos.loc[datos.pos=='lr1', 'x1'], dist='norm', ax=axs[1,1])\n",
    "axs[1,1].set_title('lr1')\n",
    "plt.tight_layout()\n"
   ]
  },
  {
   "cell_type": "code",
   "execution_count": null,
   "metadata": {},
   "outputs": [],
   "source": [
    "\n",
    "# Test de normalidad Shapiro-Wilk\n",
    "# ==============================================================================\n",
    "pg.normality(data=datos, dv='x1', group='pos')\n",
    "\n",
    "# Test de homocedasticidad\n",
    "# ==============================================================================\n",
    "pg.homoscedasticity(data=datos, dv='x1', group='pos', method='levene')\n",
    "\n",
    "# Test ANOVA de una vía (One-way ANOVA)\n",
    "# ==============================================================================\n",
    "pg.anova(data=datos, dv='x1', between='pos', detailed=True)"
   ]
  },
  {
   "cell_type": "markdown",
   "metadata": {},
   "source": [
    "### Number of neurons"
   ]
  },
  {
   "cell_type": "code",
   "execution_count": null,
   "metadata": {},
   "outputs": [],
   "source": [
    "n40 = [87.3,96.4,90.9,95.4,96.4,88.3,98.5,94.9,98,98,98,89.3,88.8,98,91.8,88.3,94.9,87.3,95.9,96.4]\n",
    "n120 =[73.1,91.9,87.3,98.5,83.2,84.8,84.8,92.4,74.6,91.9,91.9,66.5,93.4,84.8,67.5,84.8,99,97,81.7,92.9]\n",
    "n2080 = [96.4,95.9,88.3,96.4,97.5,96.4,96.4,95.4,94.9,94.4,98.5,83.8,94.8,96.4,95.4,89.8,94.9,89.8,90.9,96.4]\n",
    "\n",
    "#perform Kruskal-Wallis Test \n",
    "print(\"Train\")\n",
    "print(stats.kruskal(lr1,n40,n120,n2080))\n",
    "print(\"-----------\")\n",
    "\n",
    "n40t = [71.4,83.7,79.6,73.5,81.6,71.4,81.6,83.7,83.7,79.6,83.7,69.4,69.4,79.6,79.6,69.4,75.5,69.4,81.6,87.8]\n",
    "n120t = [65.3,75.5,71.4,83.7,71.4,69.4,65.3,85.7,63.3,73.5,77.6,65.3,83.7,71.4,65.3,69.4,81.6,77.6,69.4,73.5]\n",
    "n2080t = [85.7,81.6,75.5,89.8,81.6,77.6,79.6,81.6,85.7,73.5,83.7,69.4,65.3,83.7,81.6,71.4,75.5,75.5,77.6,83.7]\n",
    "#perform Kruskal-Wallis Test \n",
    "print(\"Test\")\n",
    "print(stats.kruskal(lr1t,n40t,n120t,n2080t))"
   ]
  },
  {
   "cell_type": "markdown",
   "metadata": {},
   "source": [
    "### Activation function"
   ]
  },
  {
   "cell_type": "code",
   "execution_count": null,
   "metadata": {},
   "outputs": [],
   "source": [
    "tan = [97.5,98.5,99,98,98.5,98.5,97.5,96.4,98.5,99,99,98.5,98.5,98.5,99,98,98,98,99,98]\n",
    "tant = [77.6,77.6,83.7,73.5,77.6,73.5,77.6,77.6,77.6,85.7,77.6,77.6,79.6,75.5,75.5,75.5,75.5,75.5,79.6, 83.7]\n",
    "relu = [95.9,95.4,86.3,91.9,94.9,94.4,89.3,93.9,93.4,91.9,93.9,90.9,90.4,91.4,83.2,90.4,94.9,89.3,92.9,91.4]\n",
    "relut = [79.6,81.6,81.6,75.5,79.6,77.6,79.6,79.6,77.6,79.6,85.7,81.6,75.5,79.6,75.5,79.6,85.7,83.7,79.6,85.7]\n",
    "triangular = [97,97,96.4,95.9,95.4,98.5,95.4,97.5,98.5,97.5,93.9,94.4,97,96.4,95.9,95.4,97,95.9,96.4,96.4]\n",
    "triangulart = [83.7,83.7,81.6,81.6,75.5,77.6,75.5,65.3,79.6,77.6,79.6,69.4,77.6,75.5,73.5,77.6,79.6,87.3,83.7,81.6]\n",
    "log = [97.5,98.5,98,99.5,98.5,99,99,98.5,98.5,99,98.5,98.5,98,98.5,98.5,99,98.5,98,98.5,98.5]\n",
    "logt = [79.6,75.5,83.7,75.5,71.4,73.4,75.5,79.6,77.6,83.7,77.6,69.4,79.6,79.6,79.6,77.6,81.6,79.6,77.6,83.7]\n",
    "\n",
    "#perform Kruskal-Wallis Test \n",
    "print(\"Train\")\n",
    "print(stats.kruskal(lr1,tan,triangular,log))\n",
    "print(\"-----------\")\n",
    "\n",
    "#perform Kruskal-Wallis Test \n",
    "print(\"Test\")\n",
    "print(stats.kruskal(lr1t,tant,triangulart,logt))"
   ]
  },
  {
   "cell_type": "code",
   "execution_count": null,
   "metadata": {},
   "outputs": [],
   "source": [
    "x1 = []\n",
    "for i in range(len(lr1)):\n",
    "    x1.append(n40[i])\n",
    "    i = i+1\n",
    "for i in range(len(lr1)):\n",
    "    x1.append(n120[i])\n",
    "    i = i+1\n",
    "for i in range(len(lr1)):\n",
    "    x1.append(n2080[i])\n",
    "    i = i+1\n",
    "for i in range(len(lr1)):\n",
    "    x1.append(lr1[i])\n",
    "    i = i+1\n",
    "    \n",
    "datos = pd.DataFrame({'pos': pos, 'x1': x1})\n",
    "datos.head(4)\n",
    "datos.groupby('pos').size()\n",
    "datos.groupby('pos').agg(['mean', 'std'])\n",
    "fig, ax = plt.subplots(1, 1, figsize=(8, 4))\n",
    "sns.boxplot(x=\"pos\", y=\"x1\", data=datos, ax=ax)\n",
    "sns.swarmplot(x=\"pos\", y=\"x1\", data=datos, color='black', alpha = 0.5, ax=ax);\n",
    "\n",
    "# Gráficos qqplot\n",
    "# ==============================================================================\n",
    "fig, axs = plt.subplots(2, 2, figsize=(8, 7))\n",
    "pg.qqplot(datos.loc[datos.pos=='lr0001', 'x1'], dist='norm', ax=axs[0,0])\n",
    "axs[0,0].set_title('lr0001')\n",
    "pg.qqplot(datos.loc[datos.pos=='lr001', 'x1'], dist='norm', ax=axs[0,1])\n",
    "axs[0,1].set_title('lr001')\n",
    "pg.qqplot(datos.loc[datos.pos=='lr01', 'x1'], dist='norm', ax=axs[1,0])\n",
    "axs[1,0].set_title('lr01')\n",
    "pg.qqplot(datos.loc[datos.pos=='lr1', 'x1'], dist='norm', ax=axs[1,1])\n",
    "axs[1,1].set_title('lr1')\n",
    "plt.tight_layout()"
   ]
  },
  {
   "cell_type": "code",
   "execution_count": null,
   "metadata": {},
   "outputs": [],
   "source": [
    "\n",
    "# Test de normalidad Shapiro-Wilk\n",
    "# ==============================================================================\n",
    "pg.normality(data=datos, dv='x1', group='pos')\n",
    "\n",
    "# Test de homocedasticidad\n",
    "# ==============================================================================\n",
    "pg.homoscedasticity(data=datos, dv='x1', group='pos', method='levene')\n",
    "\n",
    "# Test ANOVA de una vía (One-way ANOVA)\n",
    "# ==============================================================================\n",
    "pg.anova(data=datos, dv='x1', between='pos', detailed=True)"
   ]
  },
  {
   "cell_type": "code",
   "execution_count": null,
   "metadata": {},
   "outputs": [],
   "source": [
    "x1 = []\n",
    "for i in range(len(lr1)):\n",
    "    x1.append(n40t[i])\n",
    "    i = i+1\n",
    "for i in range(len(lr1)):\n",
    "    x1.append(n120t[i])\n",
    "    i = i+1\n",
    "for i in range(len(lr1)):\n",
    "    x1.append(n2080t[i])\n",
    "    i = i+1\n",
    "for i in range(len(lr1)):\n",
    "    x1.append(lr1t[i])\n",
    "    i = i+1\n",
    "    \n",
    "datos = pd.DataFrame({'pos': pos, 'x1': x1})\n",
    "datos.head(4)\n",
    "datos.groupby('pos').size()\n",
    "datos.groupby('pos').agg(['mean', 'std'])\n",
    "fig, ax = plt.subplots(1, 1, figsize=(8, 4))\n",
    "sns.boxplot(x=\"pos\", y=\"x1\", data=datos, ax=ax)\n",
    "sns.swarmplot(x=\"pos\", y=\"x1\", data=datos, color='black', alpha = 0.5, ax=ax);\n",
    "\n",
    "# Gráficos qqplot\n",
    "# ==============================================================================\n",
    "fig, axs = plt.subplots(2, 2, figsize=(8, 7))\n",
    "pg.qqplot(datos.loc[datos.pos=='lr0001', 'x1'], dist='norm', ax=axs[0,0])\n",
    "axs[0,0].set_title('lr0001')\n",
    "pg.qqplot(datos.loc[datos.pos=='lr001', 'x1'], dist='norm', ax=axs[0,1])\n",
    "axs[0,1].set_title('lr001')\n",
    "pg.qqplot(datos.loc[datos.pos=='lr01', 'x1'], dist='norm', ax=axs[1,0])\n",
    "axs[1,0].set_title('lr01')\n",
    "pg.qqplot(datos.loc[datos.pos=='lr1', 'x1'], dist='norm', ax=axs[1,1])\n",
    "axs[1,1].set_title('lr1')\n",
    "plt.tight_layout()"
   ]
  },
  {
   "cell_type": "code",
   "execution_count": null,
   "metadata": {},
   "outputs": [],
   "source": [
    "\n",
    "# Test de normalidad Shapiro-Wilk\n",
    "# ==============================================================================\n",
    "pg.normality(data=datos, dv='x1', group='pos')\n",
    "\n",
    "# Test de homocedasticidad\n",
    "# ==============================================================================\n",
    "pg.homoscedasticity(data=datos, dv='x1', group='pos', method='levene')\n",
    "\n",
    "# Test ANOVA de una vía (One-way ANOVA)\n",
    "# ==============================================================================\n",
    "pg.anova(data=datos, dv='x1', between='pos', detailed=True)"
   ]
  },
  {
   "cell_type": "code",
   "execution_count": null,
   "metadata": {},
   "outputs": [],
   "source": [
    "x1 = []\n",
    "for i in range(len(lr1)):\n",
    "    x1.append(tant[i])\n",
    "    i = i+1\n",
    "for i in range(len(lr1)):\n",
    "    x1.append(relut[i])\n",
    "    i = i+1\n",
    "for i in range(len(lr1)):\n",
    "    x1.append(triangulart[i])\n",
    "    i = i+1\n",
    "for i in range(len(lr1)):\n",
    "    x1.append(logt[i])\n",
    "    i = i+1\n",
    "for i in range(len(lr1)):\n",
    "    x1.append(lr1t[i])\n",
    "    i = i+1\n",
    "\n",
    "p = [\"lr\",\"lr\",\"lr\",\"lr\",\"lr\",\"lr\",\"lr\",\"lr\",\"lr\",\"lr\",\"lr\",\"lr\",\"lr\",\"lr\",\"lr\",\"lr\",\"lr\",\"lr\",\"lr\",\"lr\"]\n",
    "for i in range(len(lr1)):\n",
    "    pos.append(p[i])\n",
    "    i = i+1\n",
    "p = pos\n",
    "datos = pd.DataFrame({'p': p, 'x1': x1})\n",
    "datos.head(4)\n",
    "datos.groupby('p').size()\n",
    "datos.groupby('p').agg(['mean', 'std'])\n",
    "fig, ax = plt.subplots(1, 1, figsize=(8, 4))\n",
    "sns.boxplot(x=\"p\", y=\"x1\", data=datos, ax=ax)\n",
    "sns.swarmplot(x=\"p\", y=\"x1\", data=datos, color='black', alpha = 0.5, ax=ax);\n",
    "\n",
    "# Gráficos qqplot\n",
    "# ==============================================================================\n",
    "fig, axs = plt.subplots(2, 2, figsize=(8, 7))\n",
    "pg.qqplot(datos.loc[datos.p=='lr0001', 'x1'], dist='norm', ax=axs[0,0])\n",
    "axs[0,0].set_title('lr0001')\n",
    "pg.qqplot(datos.loc[datos.p=='lr001', 'x1'], dist='norm', ax=axs[0,1])\n",
    "axs[0,1].set_title('lr001')\n",
    "pg.qqplot(datos.loc[datos.p=='lr01', 'x1'], dist='norm', ax=axs[1,0])\n",
    "axs[1,0].set_title('lr01')\n",
    "pg.qqplot(datos.loc[datos.p=='lr1', 'x1'], dist='norm', ax=axs[1,1])\n",
    "axs[1,1].set_title('lr1')\n",
    "plt.tight_layout()"
   ]
  },
  {
   "cell_type": "code",
   "execution_count": null,
   "metadata": {},
   "outputs": [],
   "source": [
    "\n",
    "# Test de normalidad Shapiro-Wilk\n",
    "# ==============================================================================\n",
    "pg.normality(data=datos, dv='x1', group='p')\n",
    "\n",
    "# Test de homocedasticidad\n",
    "# ==============================================================================\n",
    "pg.homoscedasticity(data=datos, dv='x1', group='p', method='levene')\n",
    "\n",
    "# Test ANOVA de una vía (One-way ANOVA)\n",
    "# ==============================================================================\n",
    "pg.anova(data=datos, dv='x1', between='p', detailed=True)"
   ]
  },
  {
   "cell_type": "markdown",
   "metadata": {},
   "source": [
    "### Momentum"
   ]
  },
  {
   "cell_type": "code",
   "execution_count": null,
   "metadata": {},
   "outputs": [],
   "source": [
    "m001 = [95.9,95.9,95.9,98,94.9,94.4,93.9,98,94.4,94.9,95.9,96.4,93.9,93.9,92.9,96.4,94.9,95.9,95.4,94.9]\n",
    "m001t = [83.7,81.6,83.7,83.7,77.6,79.6,83.7,83.7,79.6,75.5,81.6,81.6,81.6,81.6,77.6,81.6,75.5,85.7,77.6,81.6]\n",
    "m02 = [93.9,90.9,92.4,94.4,92.9,89.8,92.4,66,93.9,90.4,91.4,91.9,88.8,87.8,88.8,86.8,92.9,81.7,67,96.4]\n",
    "m02t = [79.6,79.6,79.6,79.6,73.5,75.5,77.6,65.3,79.6,79.6,81.6,75.5,83.7,73.5,81.6,79.6,79.6,69.4,67.3,83.7]\n",
    "m04 = [80.2,66,86.8,66,83.8,81.7,82.7,66,82.2,81.2,86.8,93.4,81.7,81.2,82.2,83.8,82.7,82.2,91.4,87.8]\n",
    "m04t= [67.3,65.3,73.5,65.3,71.4,69.4,71.4,65.3,67.3,67.3,69.4,83.7,69.4,71.4,71.4,69.4,69.4,71.4,81.6,69.4]"
   ]
  },
  {
   "cell_type": "code",
   "execution_count": null,
   "metadata": {},
   "outputs": [],
   "source": [
    "x1 = []\n",
    "for i in range(len(lr1)):\n",
    "    x1.append(m001t[i])\n",
    "    i = i+1\n",
    "for i in range(len(lr1)):\n",
    "    x1.append(m02t[i])\n",
    "    i = i+1\n",
    "for i in range(len(lr1)):\n",
    "    x1.append(m04t[i])\n",
    "    i = i+1\n",
    "for i in range(len(lr1)):\n",
    "    x1.append(lr1t[i])\n",
    "    i = i+1\n",
    "    \n",
    "datos = pd.DataFrame({'pos': pos, 'x1': x1})\n",
    "datos.head(4)\n",
    "datos.groupby('pos').size()\n",
    "datos.groupby('pos').agg(['mean', 'std'])\n",
    "fig, ax = plt.subplots(1, 1, figsize=(8, 4))\n",
    "sns.boxplot(x=\"pos\", y=\"x1\", data=datos, ax=ax)\n",
    "sns.swarmplot(x=\"pos\", y=\"x1\", data=datos, color='black', alpha = 0.5, ax=ax);\n",
    "\n",
    "# Gráficos qqplot\n",
    "# ==============================================================================\n",
    "fig, axs = plt.subplots(2, 2, figsize=(8, 7))\n",
    "pg.qqplot(datos.loc[datos.pos=='lr0001', 'x1'], dist='norm', ax=axs[0,0])\n",
    "axs[0,0].set_title('lr0001')\n",
    "pg.qqplot(datos.loc[datos.pos=='lr001', 'x1'], dist='norm', ax=axs[0,1])\n",
    "axs[0,1].set_title('lr001')\n",
    "pg.qqplot(datos.loc[datos.pos=='lr01', 'x1'], dist='norm', ax=axs[1,0])\n",
    "axs[1,0].set_title('lr01')\n",
    "pg.qqplot(datos.loc[datos.pos=='lr1', 'x1'], dist='norm', ax=axs[1,1])\n",
    "axs[1,1].set_title('lr1')\n",
    "plt.tight_layout()"
   ]
  },
  {
   "cell_type": "code",
   "execution_count": null,
   "metadata": {},
   "outputs": [],
   "source": [
    "\n",
    "# Test de normalidad Shapiro-Wilk\n",
    "# ==============================================================================\n",
    "pg.normality(data=datos, dv='x1', group='pos')\n",
    "\n",
    "# Test de homocedasticidad\n",
    "# ==============================================================================\n",
    "pg.homoscedasticity(data=datos, dv='x1', group='pos', method='levene')\n",
    "\n",
    "# Test ANOVA de una vía (One-way ANOVA)\n",
    "# ==============================================================================\n",
    "pg.anova(data=datos, dv='x1', between='pos', detailed=True)"
   ]
  },
  {
   "cell_type": "markdown",
   "metadata": {},
   "source": [
    "### Dropout"
   ]
  },
  {
   "cell_type": "code",
   "execution_count": null,
   "metadata": {},
   "outputs": [],
   "source": [
    "d03 = [95.4,97,96.4,95.4,95.4,95.4,93.4,96.4,95.9,96.4,97.5,97,93.4,95.9,87.8,98,95.9,95.9,96.4,95.9]\n",
    "d03t = [75.5,75.5,77.6,69.4,81.4,79.6,81.6,81.6,75.5,77.6,85.7,77.6,79.6,79.6,71.4,77.6,87.8,87.8,81.6,83.7]\n",
    "d07 = [95.9,94.4,93.9,96.4,95.9,95.4,88.3,96.4,95.4,95.9,97,95.4,94.4,95.9,93.9,96.4,94.4,95.4,93.4,94.9]\n",
    "d07t = [81.6,79.6,77.6,83.7,79.6,83.7,71.4,79.6,75.5,77.6,75.5,77.6,81.6,81.6,77.6,79.6,85.7,75.5,83.7,75.5]\n",
    "d09 = [95.4,95.4,96.4,97,93.9,93.4,96.4,96.4,95.9,95.9,92.9,96.4,95.9,92.9,95.4,95.4,93.4,94.9,97,95.4]\n",
    "d09t = [75.5,81.6,75.5,83.7,87.8,79.6,81.6,83.7,77.6,83.7,79.8,83.7,79.6,77.6,79.6,77.6,79.6,79.6,83.7,83.7]"
   ]
  },
  {
   "cell_type": "code",
   "execution_count": null,
   "metadata": {},
   "outputs": [],
   "source": [
    "x1 = []\n",
    "for i in range(len(lr1)):\n",
    "    x1.append(d03t[i])\n",
    "    i = i+1\n",
    "for i in range(len(lr1)):\n",
    "    x1.append(d07t[i])\n",
    "    i = i+1\n",
    "for i in range(len(lr1)):\n",
    "    x1.append(d09t[i])\n",
    "    i = i+1\n",
    "for i in range(len(lr1)):\n",
    "    x1.append(lr1t[i])\n",
    "    i = i+1\n",
    "    \n",
    "datos = pd.DataFrame({'pos': pos, 'x1': x1})\n",
    "datos.head(4)\n",
    "datos.groupby('pos').size()\n",
    "datos.groupby('pos').agg(['mean', 'std'])\n",
    "fig, ax = plt.subplots(1, 1, figsize=(8, 4))\n",
    "sns.boxplot(x=\"pos\", y=\"x1\", data=datos, ax=ax)\n",
    "sns.swarmplot(x=\"pos\", y=\"x1\", data=datos, color='black', alpha = 0.5, ax=ax);\n",
    "\n",
    "# Gráficos qqplot\n",
    "# ==============================================================================\n",
    "fig, axs = plt.subplots(2, 2, figsize=(8, 7))\n",
    "pg.qqplot(datos.loc[datos.pos=='lr0001', 'x1'], dist='norm', ax=axs[0,0])\n",
    "axs[0,0].set_title('lr0001')\n",
    "pg.qqplot(datos.loc[datos.pos=='lr001', 'x1'], dist='norm', ax=axs[0,1])\n",
    "axs[0,1].set_title('lr001')\n",
    "pg.qqplot(datos.loc[datos.pos=='lr01', 'x1'], dist='norm', ax=axs[1,0])\n",
    "axs[1,0].set_title('lr01')\n",
    "pg.qqplot(datos.loc[datos.pos=='lr1', 'x1'], dist='norm', ax=axs[1,1])\n",
    "axs[1,1].set_title('lr1')\n",
    "plt.tight_layout()"
   ]
  },
  {
   "cell_type": "code",
   "execution_count": null,
   "metadata": {},
   "outputs": [],
   "source": [
    "\n",
    "# Test de normalidad Shapiro-Wilk\n",
    "# ==============================================================================\n",
    "pg.normality(data=datos, dv='x1', group='pos')\n",
    "\n",
    "# Test de homocedasticidad\n",
    "# ==============================================================================\n",
    "pg.homoscedasticity(data=datos, dv='x1', group='pos', method='levene')\n",
    "\n",
    "# Test ANOVA de una vía (One-way ANOVA)\n",
    "# ==============================================================================\n",
    "pg.anova(data=datos, dv='x1', between='pos', detailed=True)"
   ]
  },
  {
   "cell_type": "markdown",
   "metadata": {},
   "source": [
    "### Algorithm used"
   ]
  },
  {
   "cell_type": "code",
   "execution_count": null,
   "metadata": {},
   "outputs": [],
   "source": [
    "traingd = [79.7,79.2,79.2,79.7,79.2,79.7,79.2,79.2,79.7,79.7,79.7,79.2,79.7,80.2,79.7,79.7,79.2,79.2,79.7,79.2]\n",
    "traingdt = [69.4,69.4,71.4,69.4,69.4,69.4,69.4,67.3,69.4,71.4,69.4,69.4,69.4,69.4,67.3,71.4,69.4,67.3,69.4,69.4]\n",
    "traingdx = [81.2,81.7,80.7,79.7,80.2,80.7,80.2,79.7,80.7,78.7,82.2,80.7,79.2,82.2,79.7,79.7,79.7,80.2,79.7,79.7]\n",
    "traingdxt = [71.4,71.4,73.5,69.4,71.4,71.4,71.4,69.4,69.4,71.4,77.6,71.4,69.4,73.5,71.4,71.4,71.4,71.4,71.4,67.3]\n",
    "traingdm = [79.2,80.7,79.2,78.7,79.7,79.7,79.7,79.7,79.7,79.7,80.2,78.7,78.7,79.2,79.7,78.7,79.7,78.7,78.7,79.2]\n",
    "traingdmt = [71.4,69.4,67.3,69.4,69.4,69.4,69.4,69.4,69.4,71.4,67.3,69.4,71.4,69.4,69.4,69.4,69.4,69.4,67.3,69.4]\n",
    "trainlm = [82.7,79.7,84.3,87.8,80.2,82.2,84.3,85.3,80.2,83.8,83.2,80.2,81.2,81.7,81.2,83.2,82.2,81.2,87.3,80.7]\n",
    "trainlmt = [71.4,71.4,77.6,75.5,69.4,75.5,75.5,77.6,67.3,75.5,79.6,71.4,71.4,75.5,75.5,75.5,77.6,69.4,77.6,71.4]"
   ]
  },
  {
   "cell_type": "code",
   "execution_count": null,
   "metadata": {},
   "outputs": [],
   "source": [
    "x1 = []\n",
    "for i in range(len(lr1)):\n",
    "    x1.append(traingdt[i])\n",
    "    i = i+1\n",
    "for i in range(len(lr1)):\n",
    "    x1.append(traingdxt[i])\n",
    "    i = i+1\n",
    "for i in range(len(lr1)):\n",
    "    x1.append(traingdmt[i])\n",
    "    i = i+1\n",
    "for i in range(len(lr1)):\n",
    "    x1.append(trainlmt[i])\n",
    "    i = i+1\n",
    "for i in range(len(lr1)):\n",
    "    x1.append(lr1t[i])\n",
    "    i = i+1\n",
    "\n",
    "p = [\"lr\",\"lr\",\"lr\",\"lr\",\"lr\",\"lr\",\"lr\",\"lr\",\"lr\",\"lr\",\"lr\",\"lr\",\"lr\",\"lr\",\"lr\",\"lr\",\"lr\",\"lr\",\"lr\",\"lr\"]\n",
    "for i in range(len(lr1)):\n",
    "    pos.append(p[i])\n",
    "    i = i+1\n",
    "p = pos\n",
    "datos = pd.DataFrame({'p': p, 'x1': x1})\n",
    "datos.head(4)\n",
    "datos.groupby('p').size()\n",
    "datos.groupby('p').agg(['mean', 'std'])\n",
    "fig, ax = plt.subplots(1, 1, figsize=(8, 4))\n",
    "sns.boxplot(x=\"p\", y=\"x1\", data=datos, ax=ax)\n",
    "sns.swarmplot(x=\"p\", y=\"x1\", data=datos, color='black', alpha = 0.5, ax=ax);\n",
    "\n",
    "# Gráficos qqplot\n",
    "# ==============================================================================\n",
    "fig, axs = plt.subplots(2, 2, figsize=(8, 7))\n",
    "pg.qqplot(datos.loc[datos.p=='lr0001', 'x1'], dist='norm', ax=axs[0,0])\n",
    "axs[0,0].set_title('lr0001')\n",
    "pg.qqplot(datos.loc[datos.p=='lr001', 'x1'], dist='norm', ax=axs[0,1])\n",
    "axs[0,1].set_title('lr001')\n",
    "pg.qqplot(datos.loc[datos.p=='lr01', 'x1'], dist='norm', ax=axs[1,0])\n",
    "axs[1,0].set_title('lr01')\n",
    "pg.qqplot(datos.loc[datos.p=='lr1', 'x1'], dist='norm', ax=axs[1,1])\n",
    "axs[1,1].set_title('lr1')\n",
    "plt.tight_layout()"
   ]
  },
  {
   "cell_type": "code",
   "execution_count": null,
   "metadata": {},
   "outputs": [],
   "source": [
    "\n",
    "# Test de normalidad Shapiro-Wilk\n",
    "# ==============================================================================\n",
    "pg.normality(data=datos, dv='x1', group='p')\n",
    "\n",
    "# Test de homocedasticidad\n",
    "# ==============================================================================\n",
    "pg.homoscedasticity(data=datos, dv='x1', group='p', method='levene')\n",
    "\n",
    "# Test ANOVA de una vía (One-way ANOVA)\n",
    "# ==============================================================================\n",
    "pg.anova(data=datos, dv='x1', between='p', detailed=True)"
   ]
  },
  {
   "cell_type": "markdown",
   "metadata": {},
   "source": [
    "### Normalization tool"
   ]
  },
  {
   "cell_type": "code",
   "execution_count": null,
   "metadata": {},
   "outputs": [],
   "source": [
    "none = [88.8,83.8,81.7,90.9,86.3,87.3,87.3,82.7,90.9,80.7,82.7,87.3,87.8,86.3,94.9,82.7,88.8,67.5,85.3,86.8]\n",
    "nonet = [81.6,77.6,81.6,75.5,83.7,77.6,73.5,69.4,77.6,81.6,75.5,79.6,79.6,75.5,73.5,81.6,81.6,65.3,73.5,81.6]\n",
    "zscore = [96.4,95.9,96.4,95.9,94.9,94.9,97,95.9,93.9,95.4,97.5,97,97,97,94.9,95.9,98.5,94.4,95.4,96.4]\n",
    "zscoret = [75.5,81.6,75.5,75.5,81.6,77.6,77.6,79.6,79.6,77.6,79.6,79.6,79.6,75.5,81.6,77.6,75.5,81.6,77.6,77.6]\n",
    "scale = [95.4,94.4,96.4,95.9,95.4,97.5,98.5,96.4,96.4,96.4,95.4,95.9,95.9,94.4,98,95.9,96.4,93.4,94.9,95.9]\n",
    "scalet = [83.7,75.5,83.7,79.6,83.7,79.6,75.5,75.5,81.6,81.6,79.6,77.6,81.6,83.7,83.7,85.7,83.7,81.6,83.7,81.6]"
   ]
  },
  {
   "cell_type": "code",
   "execution_count": null,
   "metadata": {},
   "outputs": [],
   "source": [
    "x1 = []\n",
    "for i in range(len(lr1)):\n",
    "    x1.append(nonet[i])\n",
    "    i = i+1\n",
    "for i in range(len(lr1)):\n",
    "    x1.append(zscoret[i])\n",
    "    i = i+1\n",
    "for i in range(len(lr1)):\n",
    "    x1.append(scalet[i])\n",
    "    i = i+1\n",
    "for i in range(len(lr1)):\n",
    "    x1.append(lr1t[i])\n",
    "    i = i+1\n",
    "    \n",
    "datos = pd.DataFrame({'pos': pos, 'x1': x1})\n",
    "datos.head(4)\n",
    "datos.groupby('pos').size()\n",
    "datos.groupby('pos').agg(['mean', 'std'])\n",
    "fig, ax = plt.subplots(1, 1, figsize=(8, 4))\n",
    "sns.boxplot(x=\"pos\", y=\"x1\", data=datos, ax=ax)\n",
    "sns.swarmplot(x=\"pos\", y=\"x1\", data=datos, color='black', alpha = 0.5, ax=ax);\n",
    "\n",
    "# Gráficos qqplot\n",
    "# ==============================================================================\n",
    "fig, axs = plt.subplots(2, 2, figsize=(8, 7))\n",
    "pg.qqplot(datos.loc[datos.pos=='lr0001', 'x1'], dist='norm', ax=axs[0,0])\n",
    "axs[0,0].set_title('lr0001')\n",
    "pg.qqplot(datos.loc[datos.pos=='lr001', 'x1'], dist='norm', ax=axs[0,1])\n",
    "axs[0,1].set_title('lr001')\n",
    "pg.qqplot(datos.loc[datos.pos=='lr01', 'x1'], dist='norm', ax=axs[1,0])\n",
    "axs[1,0].set_title('lr01')\n",
    "pg.qqplot(datos.loc[datos.pos=='lr1', 'x1'], dist='norm', ax=axs[1,1])\n",
    "axs[1,1].set_title('lr1')\n",
    "plt.tight_layout()"
   ]
  },
  {
   "cell_type": "code",
   "execution_count": null,
   "metadata": {},
   "outputs": [],
   "source": [
    "\n",
    "# Test de normalidad Shapiro-Wilk\n",
    "# ==============================================================================\n",
    "pg.normality(data=datos, dv='x1', group='pos')\n",
    "\n",
    "# Test de homocedasticidad\n",
    "# ==============================================================================\n",
    "pg.homoscedasticity(data=datos, dv='x1', group='pos', method='levene')\n",
    "\n",
    "# Test ANOVA de una vía (One-way ANOVA)\n",
    "# ==============================================================================\n",
    "pg.anova(data=datos, dv='x1', between='pos', detailed=True)"
   ]
  },
  {
   "cell_type": "markdown",
   "metadata": {},
   "source": [
    "### Number of inner layers"
   ]
  },
  {
   "cell_type": "code",
   "execution_count": null,
   "metadata": {},
   "outputs": [],
   "source": [
    "layer3 = [90.9,96.4,96.4,95.9,95.4,93.9,98,94.4,97,96.4,95.4,96.4,95.9,97.5,96.4,97,97,96.4,94.4,98]\n",
    "layer3t = [79.6,77.6,81.6,79.6,79.6,75.5,75.5,75.5,81.6,79.6,83.7,81.6,83.7,73.5,77.8,81.6,79.6,81.6,73.5,73.5]\n",
    "layer5 = [93.4,96.4,95.9,97.5,94.9,97.8,97.5,98.5,91.9,98,96.4,95.4,84.3,94.4,95.9,98.5,91.4,97,93.4,97]\n",
    "layer5t = [77.6,81.6,81.6,75.5,77.6,77.6,79.6,71.4,79.6,83.7,77.8,75.5,65.3,83.7,77.6,89.8,81.6,85.7,83.7,79.6]\n",
    "layer8 = [93.4,97,97,95.9,92.9,92.9,95.4,95.9,92.7,66,90.9,94.4,93.9,91.4,94.9,92.9,97.5,92.4,89.8,92.4]\n",
    "layer8t = [77.6,79.6,79.6,77.6,75.5,81.6,81.6,79.6,71.4,65.3,81.6,77.6,77.6,75.5,73.5,77.6,75.5,69.4,81.6,77.6]"
   ]
  },
  {
   "cell_type": "code",
   "execution_count": null,
   "metadata": {},
   "outputs": [],
   "source": [
    "x1 = []\n",
    "for i in range(len(lr1)):\n",
    "    x1.append(layer3t[i])\n",
    "    i = i+1\n",
    "for i in range(len(lr1)):\n",
    "    x1.append(layer5t[i])\n",
    "    i = i+1\n",
    "for i in range(len(lr1)):\n",
    "    x1.append(layer8t[i])\n",
    "    i = i+1\n",
    "for i in range(len(lr1)):\n",
    "    x1.append(lr1t[i])\n",
    "    i = i+1\n",
    "    \n",
    "datos = pd.DataFrame({'pos': pos, 'x1': x1})\n",
    "datos.head(4)\n",
    "datos.groupby('pos').size()\n",
    "datos.groupby('pos').agg(['mean', 'std'])\n",
    "fig, ax = plt.subplots(1, 1, figsize=(8, 4))\n",
    "sns.boxplot(x=\"pos\", y=\"x1\", data=datos, ax=ax)\n",
    "sns.swarmplot(x=\"pos\", y=\"x1\", data=datos, color='black', alpha = 0.5, ax=ax);\n",
    "\n",
    "# Gráficos qqplot\n",
    "# ==============================================================================\n",
    "fig, axs = plt.subplots(2, 2, figsize=(8, 7))\n",
    "pg.qqplot(datos.loc[datos.pos=='lr0001', 'x1'], dist='norm', ax=axs[0,0])\n",
    "axs[0,0].set_title('lr0001')\n",
    "pg.qqplot(datos.loc[datos.pos=='lr001', 'x1'], dist='norm', ax=axs[0,1])\n",
    "axs[0,1].set_title('lr001')\n",
    "pg.qqplot(datos.loc[datos.pos=='lr01', 'x1'], dist='norm', ax=axs[1,0])\n",
    "axs[1,0].set_title('lr01')\n",
    "pg.qqplot(datos.loc[datos.pos=='lr1', 'x1'], dist='norm', ax=axs[1,1])\n",
    "axs[1,1].set_title('lr1')\n",
    "plt.tight_layout()"
   ]
  },
  {
   "cell_type": "code",
   "execution_count": null,
   "metadata": {},
   "outputs": [],
   "source": [
    "\n",
    "# Test de normalidad Shapiro-Wilk\n",
    "# ==============================================================================\n",
    "pg.normality(data=datos, dv='x1', group='pos')\n",
    "\n",
    "# Test de homocedasticidad\n",
    "# ==============================================================================\n",
    "pg.homoscedasticity(data=datos, dv='x1', group='pos', method='levene')\n",
    "\n",
    "# Test ANOVA de una vía (One-way ANOVA)\n",
    "# ==============================================================================\n",
    "pg.anova(data=datos, dv='x1', between='pos', detailed=True)"
   ]
  },
  {
   "cell_type": "code",
   "execution_count": null,
   "metadata": {},
   "outputs": [],
   "source": []
  }
 ],
 "metadata": {
  "kernelspec": {
   "display_name": "Python 3 (ipykernel)",
   "language": "python",
   "name": "python3"
  },
  "language_info": {
   "codemirror_mode": {
    "name": "ipython",
    "version": 3
   },
   "file_extension": ".py",
   "mimetype": "text/x-python",
   "name": "python",
   "nbconvert_exporter": "python",
   "pygments_lexer": "ipython3",
   "version": "3.9.5"
  }
 },
 "nbformat": 4,
 "nbformat_minor": 4
}
